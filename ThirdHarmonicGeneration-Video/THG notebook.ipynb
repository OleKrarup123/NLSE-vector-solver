{
 "cells": [
  {
   "cell_type": "code",
   "execution_count": null,
   "id": "a9667302",
   "metadata": {},
   "outputs": [],
   "source": [
    "import numpy as np\n",
    "import pandas as pd\n",
    "from scipy.integrate import solve_ivp\n",
    "import matplotlib.pyplot as plt"
   ]
  },
  {
   "cell_type": "code",
   "execution_count": null,
   "id": "63928798",
   "metadata": {},
   "outputs": [],
   "source": [
    "def THG_diff_eqn(z,E,n1,n3,delta_beta):\n",
    "    \n",
    "    E1=E[0]\n",
    "    E3=E[1]\n",
    "    \n",
    "    \n",
    "    dE1_dz=1j/n1*np.conj(E1)**2*E3*np.exp(1j*delta_beta*z)\n",
    "    dE3_dz=1j/n3*E1**3*np.exp(-1j*delta_beta*z)\n",
    "    \n",
    "    return np.array([dE1_dz,dE3_dz])\n",
    "\n",
    "\n",
    "\n",
    "\n",
    "    "
   ]
  },
  {
   "cell_type": "code",
   "execution_count": null,
   "id": "da901be2",
   "metadata": {},
   "outputs": [],
   "source": [
    "\n",
    "\n",
    "n1=1.46\n",
    "n2=1.47\n",
    "\n",
    "\n",
    "E1_0 = 10000*(1+0j) \n",
    "E3_0 = 0*(1+0j) \n",
    "\n",
    "z_start=0\n",
    "L=2e-7\n",
    "\n",
    "z_range=np.linspace(z_start,L,100)\n",
    "\n",
    "delta_beta_list =np.logspace(4,10,30)  #np.array([0,1e-1,2e-1,5e-1,1e0,2e0,5e0,1e1,2e1,5e1,1e2,2e2,5e2,1e3,2e3,5e3])*1e6\n",
    "\n",
    "for delta_beta in delta_beta_list:\n",
    "\n",
    "    sol = solve_ivp(THG_diff_eqn, \n",
    "                    t_span=[z_start, L],\n",
    "                    y0=[E1_0,E3_0],\n",
    "                    args=(n1,n2,delta_beta), \n",
    "                    method='RK23')    \n",
    "\n",
    "    fig,ax=plt.subplots(dpi=350)\n",
    "    ax.plot(sol.t/L,np.abs(sol.y[0])**2/np.abs(E1_0)**2,label='$E_1$',color='C3')\n",
    "    ax.plot(sol.t/L,np.abs(sol.y[1])**2/np.abs(E1_0)**2,label='$E_3$',color='C0')\n",
    "\n",
    "    ax.set_ylim(-0.05,1.05)\n",
    "    ax.set_title(f\"$\\Delta\\\\beta\\cdot L$={delta_beta*L:.1f}\")\n",
    "    ax.set_ylabel('$|E|^2$/$|E_1(0)|^2$')\n",
    "    ax.set_xlabel('z/L')\n",
    "    ax.spines[\"top\"].set_visible(False)\n",
    "    ax.spines[\"right\"].set_visible(False)\n",
    "    ax.legend(\n",
    "        loc=\"upper center\",\n",
    "        bbox_to_anchor=(1.1, 0.8),\n",
    "        ncol=1,\n",
    "        fancybox=True,\n",
    "        shadow=True,\n",
    "    )\n",
    "    #plt.yscale('log')\n",
    "    plt.savefig(f'graphs\\\\Solution_delta_betaL={delta_beta*L:.3e}.png',facecolor='white', transparent=False, bbox_inches=\"tight\")\n",
    "    plt.show()\n",
    "\n"
   ]
  },
  {
   "cell_type": "code",
   "execution_count": null,
   "id": "9370e048",
   "metadata": {},
   "outputs": [],
   "source": []
  },
  {
   "cell_type": "code",
   "execution_count": null,
   "id": "76ed18fb",
   "metadata": {},
   "outputs": [],
   "source": []
  },
  {
   "cell_type": "code",
   "execution_count": null,
   "id": "1009f788",
   "metadata": {},
   "outputs": [],
   "source": []
  },
  {
   "cell_type": "code",
   "execution_count": null,
   "id": "0142f2ae",
   "metadata": {},
   "outputs": [],
   "source": []
  },
  {
   "cell_type": "code",
   "execution_count": null,
   "id": "4444b96f",
   "metadata": {},
   "outputs": [],
   "source": []
  }
 ],
 "metadata": {
  "kernelspec": {
   "display_name": "Python 3 (ipykernel)",
   "language": "python",
   "name": "python3"
  },
  "language_info": {
   "codemirror_mode": {
    "name": "ipython",
    "version": 3
   },
   "file_extension": ".py",
   "mimetype": "text/x-python",
   "name": "python",
   "nbconvert_exporter": "python",
   "pygments_lexer": "ipython3",
   "version": "3.9.12"
  }
 },
 "nbformat": 4,
 "nbformat_minor": 5
}
