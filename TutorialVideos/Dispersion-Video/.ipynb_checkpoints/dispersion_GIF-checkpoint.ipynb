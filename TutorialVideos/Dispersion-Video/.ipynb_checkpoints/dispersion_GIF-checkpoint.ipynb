{
 "cells": [
  {
   "cell_type": "markdown",
   "id": "92bc8eeb",
   "metadata": {},
   "source": [
    "# Generating higher order dispersion gifs"
   ]
  },
  {
   "cell_type": "code",
   "execution_count": null,
   "id": "9b69a3b3",
   "metadata": {},
   "outputs": [],
   "source": [
    "from ssfm_functions_for_dispersion_video import *\n",
    "import numpy as np\n",
    "FFT_tol = 1e-4"
   ]
  },
  {
   "cell_type": "markdown",
   "id": "ece55872",
   "metadata": {},
   "source": [
    "# Set up time base and input signal"
   ]
  },
  {
   "cell_type": "code",
   "execution_count": null,
   "id": "8c58db55",
   "metadata": {},
   "outputs": [],
   "source": [
    "#os.chdir(os.path.realpath(os.path.dirname(__file__)))\n",
    "    \n",
    "    \n",
    "N  = 2**16 #Number of points\n",
    "dt = 10e-15 #Time resolution [s] \n",
    "\n",
    "centerWavelength=1550e-9\n",
    "center_freq=wavelength_to_freq(centerWavelength)\n",
    "\n",
    "\n",
    "timefreq_test=TimeFreq(N,dt,center_freq)\n",
    "\n",
    "testAmplitude = np.sqrt(1)                    #Amplitude in units of sqrt(W)\n",
    "testDuration  =1e-11   #Pulse 1/e^2 duration [s]\n",
    "testOffset    = 0                       #Time offset\n",
    "testChirp = 0\n",
    "testCarrierFreq=0\n",
    "testPulseType='gaussian' \n",
    "testOrder = 1\n",
    "testNoiseAmplitude = 0\n",
    "\n",
    "\n",
    "testInputSignal = InputSignal(timefreq_test, \n",
    "                                      testAmplitude ,\n",
    "                                      testDuration,\n",
    "                                      testOffset,\n",
    "                                      testChirp,\n",
    "                                      testCarrierFreq,\n",
    "                                      testPulseType,\n",
    "                                      testOrder,\n",
    "                                      testNoiseAmplitude)\n",
    "\n",
    "\n"
   ]
  },
  {
   "cell_type": "markdown",
   "id": "0ec7bacd",
   "metadata": {},
   "source": [
    "# Fiber with only 2nd order dispersion"
   ]
  },
  {
   "cell_type": "code",
   "execution_count": null,
   "id": "dbdf044f",
   "metadata": {},
   "outputs": [],
   "source": [
    "beta_list = [300e3*1e-30] #Dispersion in units of s^(entry+2)/m    \n",
    "\n",
    "number_of_steps=2**6\n",
    "fiber_length=1e3\n",
    "gamma=0.0\n",
    "alpha=0.0\n",
    "#  Initialize fiber\n",
    "fiber_beta2 = FiberSpan(fiber_length,number_of_steps, gamma,   beta_list,   alpha,use_self_steepening=False  )\n",
    "\n",
    "\n",
    "fiber_link_beta2 = FiberLink([fiber_beta2])\n",
    "\n",
    "\n",
    "exp_name=\"beta2\"\n",
    "#Run SSFM\n",
    "ssfm_result_list_beta2 = SSFM(fiber_link_beta2,testInputSignal,experiment_name=exp_name,FFT_tol=FFT_tol)\n",
    "\n",
    "\n",
    "#Plot pulses\n",
    "nrange_test_pulse=9600\n",
    "cutoff_test_pulse=-60\n",
    "\n",
    "#Plot pulses\n",
    "nrange_test_spectrum=200\n",
    "cutoff_test_spectrum=-60\n",
    "\n",
    "plot_everything_about_result(ssfm_result_list_beta2,\n",
    "                          nrange_test_pulse,\n",
    "                          cutoff_test_pulse,\n",
    "                          nrange_test_spectrum,\n",
    "                          cutoff_test_spectrum,\n",
    "                          )\n",
    "\n"
   ]
  },
  {
   "cell_type": "code",
   "execution_count": null,
   "id": "87fc2869",
   "metadata": {},
   "outputs": [],
   "source": [
    "#make_chirp_gif(ssfm_result_list_beta2,nrange_test_pulse,chirpRange_GHz=[-20,20],framerate=30)"
   ]
  },
  {
   "cell_type": "markdown",
   "id": "ad6ccd39",
   "metadata": {},
   "source": [
    "# Fiber with only 3rd order dispersion"
   ]
  },
  {
   "cell_type": "code",
   "execution_count": null,
   "id": "303d7d54",
   "metadata": {},
   "outputs": [],
   "source": [
    "beta_list = [0,4e-35] #Dispersion in units of s^(entry+2)/m    \n",
    "\n",
    "number_of_steps=2**6\n",
    "fiber_length=1e3\n",
    "gamma=0.0\n",
    "alpha=0.0\n",
    "#  Initialize fiber\n",
    "fiber_beta3 = FiberSpan(fiber_length,number_of_steps, gamma,   beta_list,   alpha,use_self_steepening=False  )\n",
    "\n",
    "\n",
    "fiber_link_beta3 = FiberLink([fiber_beta3])\n",
    "\n",
    "\n",
    "exp_name=\"beta3\"\n",
    "#Run SSFM\n",
    "ssfm_result_list_beta3 = SSFM(fiber_link_beta3,testInputSignal,experiment_name=exp_name,FFT_tol=FFT_tol)\n",
    "\n",
    "\n",
    "#Plot pulses\n",
    "nrange_test_pulse=9600\n",
    "cutoff_test_pulse=-60\n",
    "\n",
    "#Plot pulses\n",
    "nrange_test_spectrum=200\n",
    "cutoff_test_spectrum=-60\n",
    "\n",
    "plot_everything_about_result(ssfm_result_list_beta3,\n",
    "                          nrange_test_pulse,\n",
    "                          cutoff_test_pulse,\n",
    "                          nrange_test_spectrum,\n",
    "                          cutoff_test_spectrum,\n",
    "                          )"
   ]
  },
  {
   "cell_type": "code",
   "execution_count": null,
   "id": "afe10306",
   "metadata": {},
   "outputs": [],
   "source": [
    "#make_chirp_gif(ssfm_result_list_beta3,nrange_test_pulse,chirpRange_GHz=[-20,20],framerate=30)"
   ]
  },
  {
   "cell_type": "markdown",
   "id": "299acfa8",
   "metadata": {},
   "source": [
    "# Fiber with only 4th order dispersion"
   ]
  },
  {
   "cell_type": "code",
   "execution_count": null,
   "id": "66aff69f",
   "metadata": {},
   "outputs": [],
   "source": [
    "beta_list = [0,0,8e-46] #Dispersion in units of s^(entry+2)/m    \n",
    "\n",
    "number_of_steps=2**6\n",
    "fiber_length=1e3\n",
    "gamma=0.0\n",
    "alpha=0.0\n",
    "#  Initialize fiber\n",
    "fiber_beta4 = FiberSpan(fiber_length,number_of_steps, gamma,   beta_list,   alpha,use_self_steepening=False  )\n",
    "\n",
    "\n",
    "fiber_link_beta4 = FiberLink([fiber_beta4])\n",
    "\n",
    "\n",
    "exp_name=\"beta4\"\n",
    "#Run SSFM\n",
    "ssfm_result_list_beta4 = SSFM(fiber_link_beta4,testInputSignal,experiment_name=exp_name,FFT_tol=FFT_tol)\n",
    "\n",
    "\n",
    "#Plot pulses\n",
    "nrange_test_pulse=9600\n",
    "cutoff_test_pulse=-60\n",
    "\n",
    "#Plot pulses\n",
    "nrange_test_spectrum=200\n",
    "cutoff_test_spectrum=-60\n",
    "\n",
    "plot_everything_about_result(ssfm_result_list_beta4,\n",
    "                          nrange_test_pulse,\n",
    "                          cutoff_test_pulse,\n",
    "                          nrange_test_spectrum,\n",
    "                          cutoff_test_spectrum,\n",
    "                          )"
   ]
  },
  {
   "cell_type": "code",
   "execution_count": null,
   "id": "d2af30fb",
   "metadata": {},
   "outputs": [],
   "source": [
    "#make_chirp_gif(ssfm_result_list_beta4,nrange_test_pulse,chirpRange_GHz=[-20,20],framerate=30)"
   ]
  },
  {
   "cell_type": "code",
   "execution_count": null,
   "id": "5d7791f5",
   "metadata": {},
   "outputs": [],
   "source": []
  }
 ],
 "metadata": {
  "kernelspec": {
   "display_name": "Python 3 (ipykernel)",
   "language": "python",
   "name": "python3"
  },
  "language_info": {
   "codemirror_mode": {
    "name": "ipython",
    "version": 3
   },
   "file_extension": ".py",
   "mimetype": "text/x-python",
   "name": "python",
   "nbconvert_exporter": "python",
   "pygments_lexer": "ipython3",
   "version": "3.9.12"
  }
 },
 "nbformat": 4,
 "nbformat_minor": 5
}
