{
 "cells": [
  {
   "cell_type": "markdown",
   "id": "92bc8eeb",
   "metadata": {},
   "source": [
    "# Generating higher order dispersion gifs"
   ]
  },
  {
   "cell_type": "code",
   "execution_count": 1,
   "id": "9b69a3b3",
   "metadata": {},
   "outputs": [],
   "source": [
    "from ssfm_functions import *\n",
    "import numpy as np\n"
   ]
  },
  {
   "cell_type": "markdown",
   "id": "ece55872",
   "metadata": {},
   "source": [
    "# Set up time base and input signal"
   ]
  },
  {
   "cell_type": "code",
   "execution_count": null,
   "id": "8c58db55",
   "metadata": {},
   "outputs": [],
   "source": [
    "os.chdir(os.path.realpath(os.path.dirname(__file__)))\n",
    "    \n",
    "    \n",
    "N  = 2**16 #Number of points\n",
    "dt = 10e-15 #Time resolution [s] \n",
    "\n",
    "centerWavelength=1550e-9\n",
    "centerFreq=wavelengthToFreq(centerWavelength)\n",
    "\n",
    "\n",
    "timeFreq_test=timeFreq_class(N,dt,centerFreq)\n",
    "\n",
    "testAmplitude = np.sqrt(1)                    #Amplitude in units of sqrt(W)\n",
    "testDuration  =1e-11   #Pulse 1/e^2 duration [s]\n",
    "testOffset    = 0                       #Time offset\n",
    "testChirp = 0\n",
    "testCarrierFreq=0\n",
    "testPulseType='gaussian' \n",
    "testOrder = 1\n",
    "testNoiseAmplitude = 0\n",
    "\n",
    "\n",
    "testInputSignal = input_signal_class(timeFreq_test, \n",
    "                                      testAmplitude ,\n",
    "                                      testDuration,\n",
    "                                      testOffset,\n",
    "                                      testChirp,\n",
    "                                      testCarrierFreq,\n",
    "                                      testPulseType,\n",
    "                                      testOrder,\n",
    "                                      testNoiseAmplitude)\n",
    "\n",
    "\n"
   ]
  },
  {
   "cell_type": "markdown",
   "id": "0ec7bacd",
   "metadata": {},
   "source": [
    "# Fiber with only 2nd order dispersion"
   ]
  },
  {
   "cell_type": "code",
   "execution_count": null,
   "id": "dbdf044f",
   "metadata": {},
   "outputs": [],
   "source": [
    "beta_list = [300e3*1e-30] #Dispersion in units of s^(entry+2)/m    \n",
    "\n",
    "\n",
    "#  Initialize fiber\n",
    "fiber_beta2 = fiber_class(1000, 1e-100,   beta_list,    0  )\n",
    "\n",
    "\n",
    "fiber_list_beta2 = [fiber_beta_2]\n",
    "fiber_span_beta3 = fiber_span_class(fiber_list_beta2)\n",
    "\n",
    "testSafetyFactor = 10\n",
    "testStepConfig=(\"fixed\",2**11,testSafetyFactor)\n",
    "\n",
    "expName=\"beta2\"\n",
    "#Run SSFM\n",
    "ssfm_result_list = SSFM(fiber_span_beta2,testInputSignal,stepConfig=testStepConfig,experimentName=expName,showProgressFlag=True)\n",
    "\n",
    "\n",
    "#Plot pulses\n",
    "nrange_test_pulse=9600\n",
    "cutoff_test_pulse=-60\n",
    "\n",
    "#Plot pulses\n",
    "nrange_test_spectrum=200\n",
    "cutoff_test_spectrum=-60\n",
    "\n",
    "plotEverythingAboutResult(ssfm_result_list,\n",
    "                          nrange_test_pulse,\n",
    "                          cutoff_test_pulse,\n",
    "                          nrange_test_spectrum,\n",
    "                          cutoff_test_spectrum,\n",
    "                          )\n",
    "\n",
    "makeChirpGif(ssfm_result_list,nrange_test_pulse,chirpRange=[-20,20],framerate=30)"
   ]
  },
  {
   "cell_type": "markdown",
   "id": "ad6ccd39",
   "metadata": {},
   "source": [
    "# Fiber with only 3rd order dispersion"
   ]
  },
  {
   "cell_type": "code",
   "execution_count": null,
   "id": "303d7d54",
   "metadata": {},
   "outputs": [],
   "source": [
    "#beta_list = [0,0,1e-12*1e-24*1e-11] \n",
    "\n",
    "beta_list = [0,1e-12*1e-24] #Dispersion in units of s^(entry+2)/m    \n",
    "\n",
    "\n",
    "#  Initialize fiber\n",
    "fiber_beta3 = fiber_class(1000, 1e-100,   beta_list,    0  )\n",
    "\n",
    "\n",
    "fiber_list_beta3 = [fiber_beta_3]\n",
    "fiber_span_beta3 = fiber_span_class(fiber_list_beta3)\n",
    "\n",
    "testSafetyFactor = 10\n",
    "testStepConfig=(\"fixed\",2**11,testSafetyFactor)\n",
    "\n",
    "expName=\"beta2\"\n",
    "#Run SSFM\n",
    "ssfm_result_list = SSFM(fiber_span_beta3,testInputSignal,stepConfig=testStepConfig,experimentName=expName,showProgressFlag=True)\n",
    "\n",
    "\n",
    "#Plot pulses\n",
    "nrange_test_pulse=9600\n",
    "cutoff_test_pulse=-60\n",
    "\n",
    "#Plot pulses\n",
    "nrange_test_spectrum=200\n",
    "cutoff_test_spectrum=-60\n",
    "\n",
    "plotEverythingAboutResult(ssfm_result_list,\n",
    "                          nrange_test_pulse,\n",
    "                          cutoff_test_pulse,\n",
    "                          nrange_test_spectrum,\n",
    "                          cutoff_test_spectrum,\n",
    "                          )\n",
    "\n",
    "makeChirpGif(ssfm_result_list,nrange_test_pulse,chirpRange=[-20,20],framerate=30)"
   ]
  },
  {
   "cell_type": "markdown",
   "id": "299acfa8",
   "metadata": {},
   "source": [
    "# Fiber with only 4th order dispersion"
   ]
  },
  {
   "cell_type": "code",
   "execution_count": null,
   "id": "66aff69f",
   "metadata": {},
   "outputs": [],
   "source": [
    "\n",
    "beta_list = [0,0,1e-12*1e-24*1e-11] #Dispersion in units of s^(entry+2)/m    \n",
    "\n",
    "\n",
    "#  Initialize fiber\n",
    "fiber_beta4 = fiber_class(1000, 1e-100,   beta_list,    0  )\n",
    "\n",
    "\n",
    "fiber_list_beta4 = [fiber_beta_4]\n",
    "fiber_span_beta4 = fiber_span_class(fiber_list_beta4)\n",
    "\n",
    "testSafetyFactor = 10\n",
    "testStepConfig=(\"fixed\",2**11,testSafetyFactor)\n",
    "\n",
    "expName=\"beta2\"\n",
    "#Run SSFM\n",
    "ssfm_result_list = SSFM(fiber_span_beta4,testInputSignal,stepConfig=testStepConfig,experimentName=expName,showProgressFlag=True)\n",
    "\n",
    "\n",
    "#Plot pulses\n",
    "nrange_test_pulse=9600\n",
    "cutoff_test_pulse=-60\n",
    "\n",
    "#Plot pulses\n",
    "nrange_test_spectrum=200\n",
    "cutoff_test_spectrum=-60\n",
    "\n",
    "plotEverythingAboutResult(ssfm_result_list,\n",
    "                          nrange_test_pulse,\n",
    "                          cutoff_test_pulse,\n",
    "                          nrange_test_spectrum,\n",
    "                          cutoff_test_spectrum,\n",
    "                          )\n",
    "\n",
    "makeChirpGif(ssfm_result_list,nrange_test_pulse,chirpRange=[-20,20],framerate=30)"
   ]
  }
 ],
 "metadata": {
  "kernelspec": {
   "display_name": "Python 3 (ipykernel)",
   "language": "python",
   "name": "python3"
  },
  "language_info": {
   "codemirror_mode": {
    "name": "ipython",
    "version": 3
   },
   "file_extension": ".py",
   "mimetype": "text/x-python",
   "name": "python",
   "nbconvert_exporter": "python",
   "pygments_lexer": "ipython3",
   "version": "3.9.12"
  }
 },
 "nbformat": 4,
 "nbformat_minor": 5
}
